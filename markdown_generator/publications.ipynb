{
 "cells": [
  {
   "cell_type": "markdown",
   "metadata": {
    "deletable": true,
    "editable": true
   },
   "source": [
    "# Publications markdown generator for academicpages\n",
    "\n",
    "Takes a TSV of publications with metadata and converts them for use with [academicpages.github.io](academicpages.github.io). This is an interactive Jupyter notebook ([see more info here](http://jupyter-notebook-beginner-guide.readthedocs.io/en/latest/what_is_jupyter.html)). The core python code is also in `publications.py`. Run either from the `markdown_generator` folder after replacing `publications.tsv` with one containing your data.\n",
    "\n",
    "TODO: Make this work with BibTex and other databases of citations, rather than Stuart's non-standard TSV format and citation style.\n"
   ]
  },
  {
   "cell_type": "markdown",
   "metadata": {},
   "source": [
    "## Data format\n",
    "\n",
    "The TSV needs to have the following columns: pub_date, title, venue, excerpt, citation, site_url, and paper_url, with a header at the top. \n",
    "\n",
    "- `excerpt` and `paper_url` can be blank, but the others must have values. \n",
    "- `pub_date` must be formatted as YYYY-MM-DD.\n",
    "- `url_slug` will be the descriptive part of the .md file and the permalink URL for the page about the paper. The .md file will be `YYYY-MM-DD-[url_slug].md` and the permalink will be `https://[yourdomain]/publications/YYYY-MM-DD-[url_slug]`\n",
    "\n",
    "This is how the raw file looks (it doesn't look pretty, use a spreadsheet or other program to edit and create)."
   ]
  },
  {
   "cell_type": "code",
   "execution_count": 1,
   "metadata": {
    "collapsed": false
   },
   "outputs": [
    {
     "name": "stdout",
     "output_type": "stream",
     "text": [
      "pub_date\ttitle\tvenue\texcerpt\tcitation\turl_slug\tpaper_url\tslides_url\n",
      "2024-09-06\tFinding Complete Impossible Differential Attacks on AndRX Ciphers and Efficient Distinguishers for ARX Designs\tIACR Transactions on Symmetric Cryptology\tThis paper explores advanced techniques for impossible differential attacks on AndRX ciphers and efficient distinguishers for ARX designs.\tDebasmita Chakraborty, Hosein Hadipour, Phuong Hoa Nguyen, Maria Eichlseder. (2024). \"Finding Complete Impossible Differential Attacks on AndRX Ciphers and Efficient Distinguishers for ARX Designs.\" <i>IACR Transactions on Symmetric Cryptology, TOSC-2024(3)</i>.\tfinding-impossible-differential-andrx\thttps://doi.org/10.46586/tosc.v2024.i3.84-176\t\n",
      "2023-01-25\tRevisiting Related-Key Boomerang Attacks on AES Using Computer-Aided Tool\tAdvances in Cryptology – ASIACRYPT 2022\tThis paper revisits related-key boomerang attacks on AES with a focus on utilizing computer-aided tools for enhanced cryptanalysis.\tPatrick Derbez, Marie Euler, Pierre-Alain Fouque, Phuong Hoa Nguyen. (2022). \"Revisiting Related-Key Boomerang Attacks on AES Using Computer-Aided Tool.\" <i>ASIACRYPT 2022</i>.\trevisiting-related-key-boomerang-aes\thttps://doi.org/10.1007/978-3-031-22969-5_3\t\n",
      "2020-04-11\tSolving the Clustered Traveling Salesman Problem with d-Relaxed Priority Rule\tInternational Transactions in Operational Research\tThis paper addresses the clustered traveling salesman problem using a d-relaxed priority rule, contributing to optimization techniques in logistics.\tMinh Hoàng Hà, Hoa Nguyen Phuong, Huyen Tran Ngoc Nhat, André Langevin, Martin Trépanier. (2023). \"Solving the Clustered Traveling Salesman Problem with d-Relaxed Priority Rule.\" <i>International Transactions in Operational Research</i>.\tsolving-clustered-traveling-salesman\thttps://doi.org/10.1111/itor.12797\t\n"
     ]
    }
   ],
   "source": [
    "!cat publications.tsv"
   ]
  },
  {
   "cell_type": "markdown",
   "metadata": {},
   "source": [
    "## Import pandas\n",
    "\n",
    "We are using the very handy pandas library for dataframes."
   ]
  },
  {
   "cell_type": "code",
   "execution_count": 2,
   "metadata": {
    "collapsed": true,
    "deletable": true,
    "editable": true
   },
   "outputs": [],
   "source": [
    "import pandas as pd"
   ]
  },
  {
   "cell_type": "markdown",
   "metadata": {},
   "source": [
    "## Import TSV\n",
    "\n",
    "Pandas makes this easy with the read_csv function. We are using a TSV, so we specify the separator as a tab, or `\\t`.\n",
    "\n",
    "I found it important to put this data in a tab-separated values format, because there are a lot of commas in this kind of data and comma-separated values can get messed up. However, you can modify the import statement, as pandas also has read_excel(), read_json(), and others."
   ]
  },
  {
   "cell_type": "code",
   "execution_count": 3,
   "metadata": {
    "collapsed": false,
    "deletable": true,
    "editable": true
   },
   "outputs": [
    {
     "data": {
      "text/html": [
       "<div>\n",
       "<style scoped>\n",
       "    .dataframe tbody tr th:only-of-type {\n",
       "        vertical-align: middle;\n",
       "    }\n",
       "\n",
       "    .dataframe tbody tr th {\n",
       "        vertical-align: top;\n",
       "    }\n",
       "\n",
       "    .dataframe thead th {\n",
       "        text-align: right;\n",
       "    }\n",
       "</style>\n",
       "<table border=\"1\" class=\"dataframe\">\n",
       "  <thead>\n",
       "    <tr style=\"text-align: right;\">\n",
       "      <th></th>\n",
       "      <th>pub_date</th>\n",
       "      <th>title</th>\n",
       "      <th>venue</th>\n",
       "      <th>excerpt</th>\n",
       "      <th>citation</th>\n",
       "      <th>url_slug</th>\n",
       "      <th>paper_url</th>\n",
       "      <th>slides_url</th>\n",
       "    </tr>\n",
       "  </thead>\n",
       "  <tbody>\n",
       "    <tr>\n",
       "      <th>0</th>\n",
       "      <td>2024-09-06</td>\n",
       "      <td>Finding Complete Impossible Differential Attac...</td>\n",
       "      <td>IACR Transactions on Symmetric Cryptology</td>\n",
       "      <td>This paper explores advanced techniques for im...</td>\n",
       "      <td>Debasmita Chakraborty, Hosein Hadipour, Phuong...</td>\n",
       "      <td>finding-impossible-differential-andrx</td>\n",
       "      <td>https://doi.org/10.46586/tosc.v2024.i3.84-176</td>\n",
       "      <td>NaN</td>\n",
       "    </tr>\n",
       "    <tr>\n",
       "      <th>1</th>\n",
       "      <td>2023-01-25</td>\n",
       "      <td>Revisiting Related-Key Boomerang Attacks on AE...</td>\n",
       "      <td>Advances in Cryptology – ASIACRYPT 2022</td>\n",
       "      <td>This paper revisits related-key boomerang atta...</td>\n",
       "      <td>Patrick Derbez, Marie Euler, Pierre-Alain Fouq...</td>\n",
       "      <td>revisiting-related-key-boomerang-aes</td>\n",
       "      <td>https://doi.org/10.1007/978-3-031-22969-5_3</td>\n",
       "      <td>NaN</td>\n",
       "    </tr>\n",
       "    <tr>\n",
       "      <th>2</th>\n",
       "      <td>2020-04-11</td>\n",
       "      <td>Solving the Clustered Traveling Salesman Probl...</td>\n",
       "      <td>International Transactions in Operational Rese...</td>\n",
       "      <td>This paper addresses the clustered traveling s...</td>\n",
       "      <td>Minh Hoàng Hà, Hoa Nguyen Phuong, Huyen Tran N...</td>\n",
       "      <td>solving-clustered-traveling-salesman</td>\n",
       "      <td>https://doi.org/10.1111/itor.12797</td>\n",
       "      <td>NaN</td>\n",
       "    </tr>\n",
       "  </tbody>\n",
       "</table>\n",
       "</div>"
      ],
      "text/plain": [
       "     pub_date                                              title  \\\n",
       "0  2024-09-06  Finding Complete Impossible Differential Attac...   \n",
       "1  2023-01-25  Revisiting Related-Key Boomerang Attacks on AE...   \n",
       "2  2020-04-11  Solving the Clustered Traveling Salesman Probl...   \n",
       "\n",
       "                                               venue  \\\n",
       "0          IACR Transactions on Symmetric Cryptology   \n",
       "1            Advances in Cryptology – ASIACRYPT 2022   \n",
       "2  International Transactions in Operational Rese...   \n",
       "\n",
       "                                             excerpt  \\\n",
       "0  This paper explores advanced techniques for im...   \n",
       "1  This paper revisits related-key boomerang atta...   \n",
       "2  This paper addresses the clustered traveling s...   \n",
       "\n",
       "                                            citation  \\\n",
       "0  Debasmita Chakraborty, Hosein Hadipour, Phuong...   \n",
       "1  Patrick Derbez, Marie Euler, Pierre-Alain Fouq...   \n",
       "2  Minh Hoàng Hà, Hoa Nguyen Phuong, Huyen Tran N...   \n",
       "\n",
       "                                url_slug  \\\n",
       "0  finding-impossible-differential-andrx   \n",
       "1   revisiting-related-key-boomerang-aes   \n",
       "2   solving-clustered-traveling-salesman   \n",
       "\n",
       "                                       paper_url  slides_url  \n",
       "0  https://doi.org/10.46586/tosc.v2024.i3.84-176         NaN  \n",
       "1    https://doi.org/10.1007/978-3-031-22969-5_3         NaN  \n",
       "2             https://doi.org/10.1111/itor.12797         NaN  "
      ]
     },
     "execution_count": 3,
     "metadata": {},
     "output_type": "execute_result"
    }
   ],
   "source": [
    "publications = pd.read_csv(\"publications.tsv\", sep=\"\\t\", header=0)\n",
    "publications\n"
   ]
  },
  {
   "cell_type": "markdown",
   "metadata": {},
   "source": [
    "## Escape special characters\n",
    "\n",
    "YAML is very picky about how it takes a valid string, so we are replacing single and double quotes (and ampersands) with their HTML encoded equivilents. This makes them look not so readable in raw format, but they are parsed and rendered nicely."
   ]
  },
  {
   "cell_type": "code",
   "execution_count": 9,
   "metadata": {
    "collapsed": true,
    "deletable": true,
    "editable": true
   },
   "outputs": [],
   "source": [
    "html_escape_table = {\n",
    "    \"&\": \"&amp;\",\n",
    "    '\"': \"&quot;\",\n",
    "    \"'\": \"&apos;\"\n",
    "    }\n",
    "\n",
    "def html_escape(text):\n",
    "    \"\"\"Produce entities within text.\"\"\"\n",
    "    return \"\".join(html_escape_table.get(c,c) for c in text)"
   ]
  },
  {
   "cell_type": "markdown",
   "metadata": {},
   "source": [
    "## Creating the markdown files\n",
    "\n",
    "This is where the heavy lifting is done. This loops through all the rows in the TSV dataframe, then starts to concatentate a big string (```md```) that contains the markdown for each type. It does the YAML metadata first, then does the description for the individual page."
   ]
  },
  {
   "cell_type": "code",
   "execution_count": 5,
   "metadata": {
    "collapsed": false,
    "deletable": true,
    "editable": true
   },
   "outputs": [],
   "source": [
    "import os\n",
    "for row, item in publications.iterrows():\n",
    "    \n",
    "    md_filename = str(item.pub_date) + \"-\" + item.url_slug + \".md\"\n",
    "    html_filename = str(item.pub_date) + \"-\" + item.url_slug\n",
    "    year = item.pub_date[:4]\n",
    "    \n",
    "    ## YAML variables\n",
    "    \n",
    "    md = \"---\\ntitle: \\\"\"   + item.title + '\"\\n'\n",
    "    \n",
    "    md += \"\"\"collection: publications\"\"\"\n",
    "    \n",
    "    md += \"\"\"\\npermalink: /publication/\"\"\" + html_filename\n",
    "    \n",
    "    if len(str(item.excerpt)) > 5:\n",
    "        md += \"\\nexcerpt: '\" + html_escape(item.excerpt) + \"'\"\n",
    "    \n",
    "    md += \"\\ndate: \" + str(item.pub_date) \n",
    "    \n",
    "    md += \"\\nvenue: '\" + html_escape(item.venue) + \"'\"\n",
    "    \n",
    "    if len(str(item.slides_url)) > 5:\n",
    "        md += \"\\nslidesurl: '\" + item.slides_url + \"'\"\n",
    "\n",
    "    if len(str(item.paper_url)) > 5:\n",
    "        md += \"\\npaperurl: '\" + item.paper_url + \"'\"\n",
    "    \n",
    "    md += \"\\ncitation: '\" + html_escape(item.citation) + \"'\"\n",
    "    \n",
    "    md += \"\\n---\"\n",
    "    \n",
    "    ## Markdown description for individual page\n",
    "        \n",
    "    if len(str(item.excerpt)) > 5:\n",
    "        md += \"\\n\" + html_escape(item.excerpt) + \"\\n\"\n",
    "\n",
    "    if len(str(item.slides_url)) > 5:\n",
    "        md += \"\\n[Download slides here](\" + item.slides_url + \")\\n\" \n",
    "\n",
    "    if len(str(item.paper_url)) > 5:\n",
    "        md += \"\\n[Download paper here](\" + item.paper_url + \")\\n\" \n",
    "        \n",
    "    md += \"\\nRecommended citation: \" + item.citation\n",
    "    \n",
    "    md_filename = os.path.basename(md_filename)\n",
    "       \n",
    "    with open(\"../_publications/\" + md_filename, 'w') as f:\n",
    "        f.write(md)"
   ]
  },
  {
   "cell_type": "markdown",
   "metadata": {},
   "source": [
    "These files are in the publications directory, one directory below where we're working from."
   ]
  },
  {
   "cell_type": "code",
   "execution_count": 8,
   "metadata": {
    "collapsed": false,
    "deletable": true,
    "editable": true
   },
   "outputs": [
    {
     "name": "stdout",
     "output_type": "stream",
     "text": [
      "2020-04-11-solving-clustered-traveling-salesman.md\n",
      "2023-01-25-revisiting-related-key-boomerang-aes.md\n",
      "2024-09-06-finding-impossible-differential-andrx.md\n"
     ]
    }
   ],
   "source": [
    "!ls ../_publications/"
   ]
  },
  {
   "cell_type": "code",
   "execution_count": 7,
   "metadata": {
    "collapsed": false,
    "deletable": true,
    "editable": true
   },
   "outputs": [
    {
     "name": "stdout",
     "output_type": "stream",
     "text": [
      "---\n",
      "title: \"Finding Complete Impossible Differential Attacks on AndRX Ciphers and Efficient Distinguishers for ARX Designs\"\n",
      "collection: publications\n",
      "permalink: /publication/2024-09-06-finding-impossible-differential-andrx\n",
      "excerpt: 'This paper explores advanced techniques for impossible differential attacks on AndRX ciphers and efficient distinguishers for ARX designs.'\n",
      "date: 2024-09-06\n",
      "venue: 'IACR Transactions on Symmetric Cryptology'\n",
      "paperurl: 'https://doi.org/10.46586/tosc.v2024.i3.84-176'\n",
      "citation: 'Debasmita Chakraborty, Hosein Hadipour, Phuong Hoa Nguyen, Maria Eichlseder. (2024). &quot;Finding Complete Impossible Differential Attacks on AndRX Ciphers and Efficient Distinguishers for ARX Designs.&quot; <i>IACR Transactions on Symmetric Cryptology, TOSC-2024(3)</i>.'\n",
      "---\n",
      "This paper explores advanced techniques for impossible differential attacks on AndRX ciphers and efficient distinguishers for ARX designs.\n",
      "\n",
      "[Download paper here](https://doi.org/10.46586/tosc.v2024.i3.84-176)\n",
      "\n",
      "Recommended citation: Debasmita Chakraborty, Hosein Hadipour, Phuong Hoa Nguyen, Maria Eichlseder. (2024). \"Finding Complete Impossible Differential Attacks on AndRX Ciphers and Efficient Distinguishers for ARX Designs.\" <i>IACR Transactions on Symmetric Cryptology, TOSC-2024(3)</i>."
     ]
    }
   ],
   "source": [
    "!cat ../_publications/2024-09-06-finding-impossible-differential-andrx.md"
   ]
  },
  {
   "cell_type": "code",
   "execution_count": null,
   "metadata": {
    "collapsed": true,
    "deletable": true,
    "editable": true
   },
   "outputs": [],
   "source": []
  }
 ],
 "metadata": {
  "kernelspec": {
   "display_name": "Python 3",
   "language": "python",
   "name": "python3"
  },
  "language_info": {
   "codemirror_mode": {
    "name": "ipython",
    "version": 3
   },
   "file_extension": ".py",
   "mimetype": "text/x-python",
   "name": "python",
   "nbconvert_exporter": "python",
   "pygments_lexer": "ipython3",
   "version": "3.12.1"
  }
 },
 "nbformat": 4,
 "nbformat_minor": 0
}
